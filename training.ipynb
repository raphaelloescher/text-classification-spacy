{
 "cells": [
  {
   "cell_type": "code",
   "execution_count": 1,
   "metadata": {},
   "outputs": [],
   "source": [
    "import pandas as pd"
   ]
  },
  {
   "cell_type": "code",
   "execution_count": 5,
   "metadata": {},
   "outputs": [
    {
     "name": "stdout",
     "output_type": "stream",
     "text": [
      "                                            Document    Topic_group\n",
      "0  connection with icon icon dear please setup ic...       Hardware\n",
      "1  work experience user work experience user hi w...         Access\n",
      "2  requesting for meeting requesting meeting hi p...       Hardware\n",
      "3  reset passwords for external accounts re expir...         Access\n",
      "4  mail verification warning hi has got attached ...  Miscellaneous\n",
      "<class 'pandas.core.frame.DataFrame'>\n",
      "RangeIndex: 47837 entries, 0 to 47836\n",
      "Data columns (total 2 columns):\n",
      " #   Column       Non-Null Count  Dtype \n",
      "---  ------       --------------  ----- \n",
      " 0   Document     47837 non-null  object\n",
      " 1   Topic_group  47837 non-null  object\n",
      "dtypes: object(2)\n",
      "memory usage: 747.6+ KB\n",
      "None\n",
      "Topic_group\n",
      "Hardware                 13617\n",
      "HR Support               10915\n",
      "Access                    7125\n",
      "Miscellaneous             7060\n",
      "Storage                   2777\n",
      "Purchase                  2464\n",
      "Internal Project          2119\n",
      "Administrative rights     1760\n",
      "Name: count, dtype: int64\n"
     ]
    }
   ],
   "source": [
    "df = pd.read_csv('tickets.csv')\n",
    "print(df.head())\n",
    "print(df.info())\n",
    "print(df['Topic_group'].value_counts())\n",
    "\n",
    "df['Document'] = df['Document'].str.lower()  # Lowercase text\n",
    "df = df.dropna()  # Drop rows with missing values\n",
    "\n",
    "df_limited = df.sample(n=3000, random_state=42).reset_index(drop=True)"
   ]
  },
  {
   "cell_type": "code",
   "execution_count": 8,
   "metadata": {},
   "outputs": [],
   "source": [
    "from sklearn.model_selection import train_test_split\n",
    "\n",
    "train_data, val_data = train_test_split(df_limited, test_size=0.2, random_state=42)"
   ]
  },
  {
   "cell_type": "code",
   "execution_count": 9,
   "metadata": {},
   "outputs": [],
   "source": [
    "def prepare_spacy_data(data):\n",
    "    spacy_data = []\n",
    "    for _, row in data.iterrows():\n",
    "        cats = {label: 0 for label in df_limited['Topic_group'].unique()}  # Initialize all labels as 0\n",
    "        cats[row['Topic_group']] = 1  # Set the correct label as 1\n",
    "        spacy_data.append((row['Document'], {'cats': cats}))\n",
    "    return spacy_data\n",
    "\n",
    "train_data_spacy = prepare_spacy_data(train_data)\n",
    "val_data_spacy = prepare_spacy_data(val_data)"
   ]
  },
  {
   "cell_type": "code",
   "execution_count": 10,
   "metadata": {},
   "outputs": [],
   "source": [
    "import spacy\n",
    "from spacy.pipeline.textcat import Config\n",
    "\n",
    "nlp = spacy.blank(\"en\")  # Create a blank English model\n",
    "config = Config()\n",
    "textcat = nlp.add_pipe(\"textcat\", config=config)\n",
    "\n",
    "# Add labels to the TextCategorizer\n",
    "for label in df_limited['Topic_group'].unique():\n",
    "    textcat.add_label(label)"
   ]
  },
  {
   "cell_type": "code",
   "execution_count": 11,
   "metadata": {},
   "outputs": [],
   "source": [
    "from spacy.tokens import DocBin\n",
    "\n",
    "def convert_to_docbin(data, nlp):\n",
    "    docbin = DocBin()\n",
    "    for text, annotations in data:\n",
    "        doc = nlp.make_doc(text)\n",
    "        doc.cats = annotations['cats']\n",
    "        docbin.add(doc)\n",
    "    return docbin\n",
    "\n",
    "train_docbin = convert_to_docbin(train_data_spacy, nlp)\n",
    "val_docbin = convert_to_docbin(val_data_spacy, nlp)\n",
    "\n",
    "train_docbin.to_disk(\"./train.spacy\")\n",
    "val_docbin.to_disk(\"./val.spacy\")"
   ]
  },
  {
   "cell_type": "code",
   "execution_count": null,
   "metadata": {},
   "outputs": [],
   "source": [
    "!python -m spacy init config ./config.cfg --lang en --pipeline textcat --optimize efficiency"
   ]
  },
  {
   "cell_type": "code",
   "execution_count": 12,
   "metadata": {},
   "outputs": [
    {
     "name": "stdout",
     "output_type": "stream",
     "text": [
      "Number of training examples: 2400\n",
      "First example categories: {'Hardware': 0, 'Purchase': 0, 'HR Support': 0, 'Access': 1, 'Internal Project': 0, 'Administrative rights': 0, 'Miscellaneous': 0, 'Storage': 0}\n"
     ]
    }
   ],
   "source": [
    "from spacy.tokens import DocBin\n",
    "\n",
    "# Check training data\n",
    "train_docbin = DocBin().from_disk(\"./train.spacy\")\n",
    "train_docs = list(train_docbin.get_docs(nlp.vocab))\n",
    "print(f\"Number of training examples: {len(train_docs)}\")\n",
    "print(f\"First example categories: {train_docs[0].cats}\")"
   ]
  },
  {
   "cell_type": "code",
   "execution_count": 15,
   "metadata": {},
   "outputs": [
    {
     "name": "stdout",
     "output_type": "stream",
     "text": [
      "\u001b[38;5;2m✔ Created output directory: output\u001b[0m\n",
      "\u001b[38;5;4mℹ Saving to output directory: output\u001b[0m\n",
      "\u001b[38;5;4mℹ Using CPU\u001b[0m\n",
      "\u001b[1m\n",
      "=========================== Initializing pipeline ===========================\u001b[0m\n",
      "\u001b[38;5;2m✔ Initialized pipeline\u001b[0m\n",
      "\u001b[1m\n",
      "============================= Training pipeline =============================\u001b[0m\n",
      "\u001b[38;5;4mℹ Pipeline: ['textcat']\u001b[0m\n",
      "\u001b[38;5;4mℹ Initial learn rate: 0.001\u001b[0m\n",
      "E    #       LOSS TEXTCAT  CATS_SCORE  SCORE \n",
      "---  ------  ------------  ----------  ------\n",
      "  0       0          0.11        5.24    0.05\n",
      "  0     200         17.68       37.11    0.37\n",
      "  0     400         14.78       54.30    0.54\n",
      "  0     600         12.31       61.19    0.61\n",
      "  1     800          9.38       68.07    0.68\n",
      "  1    1000          6.95       73.70    0.74\n",
      "  2    1200          7.20       75.32    0.75\n",
      "  2    1400          4.57       76.35    0.76\n",
      "  3    1600          3.62       75.80    0.76\n",
      "  4    1800          3.18       76.16    0.76\n",
      "  5    2000          2.12       76.37    0.76\n",
      "  6    2200          1.78       75.43    0.75\n",
      "  8    2400          1.32       76.04    0.76\n",
      " 10    2600          0.99       76.15    0.76\n",
      " 12    2800          0.76       76.15    0.76\n",
      " 14    3000          0.67       75.17    0.75\n",
      " 16    3200          0.54       74.59    0.75\n",
      " 17    3400          0.44       74.15    0.74\n",
      " 19    3600          0.46       74.34    0.74\n",
      "\u001b[38;5;2m✔ Saved pipeline to output directory\u001b[0m\n",
      "output/model-last\n"
     ]
    }
   ],
   "source": [
    "!python -m spacy train ./config.cfg --output ./output --paths.train ./train.spacy --paths.dev ./val.spacy"
   ]
  },
  {
   "cell_type": "code",
   "execution_count": 23,
   "metadata": {},
   "outputs": [
    {
     "name": "stdout",
     "output_type": "stream",
     "text": [
      "Hardware: 0.44\n",
      "Access: 0.20\n",
      "HR Support: 0.13\n",
      "Storage: 0.09\n",
      "Administrative rights: 0.07\n",
      "Miscellaneous: 0.03\n",
      "Internal Project: 0.03\n",
      "Purchase: 0.01\n"
     ]
    }
   ],
   "source": [
    "import spacy\n",
    "\n",
    "# Load the trained model\n",
    "nlp_model = spacy.load(\"./output/model-best\")\n",
    "\n",
    "# Test on a single example\n",
    "test_text = \"I cannot access the file, I need help with my authorization.\"\n",
    "doc = nlp_model(test_text)\n",
    "sorted_cats = sorted(doc.cats.items(), key=lambda x: x[1], reverse=True)\n",
    "\n",
    "for label, score in sorted_cats:\n",
    "    print(f\"{label}: {score:.2f}\") # predicted labels and scores"
   ]
  },
  {
   "cell_type": "code",
   "execution_count": 24,
   "metadata": {},
   "outputs": [
    {
     "data": {
      "text/plain": [
       "'./spacy-text-classification'"
      ]
     },
     "execution_count": 24,
     "metadata": {},
     "output_type": "execute_result"
    }
   ],
   "source": [
    "import shutil\n",
    "\n",
    "# Export model\n",
    "shutil.copytree(\"./output/model-best\", \"./spacy-text-classification\")"
   ]
  },
  {
   "cell_type": "code",
   "execution_count": 25,
   "metadata": {},
   "outputs": [],
   "source": [
    "import numpy as np\n",
    "\n",
    "true_labels = []\n",
    "predicted_labels = []\n",
    "\n",
    "# Assuming `val_data_spacy` is your validation dataset in spaCy format\n",
    "for text, annotations in val_data_spacy:\n",
    "    doc = nlp_model(text)\n",
    "    # Get the true label\n",
    "    true_label = max(annotations['cats'], key=annotations['cats'].get)\n",
    "    true_labels.append(true_label)\n",
    "    \n",
    "    # Get the predicted label (highest confidence score)\n",
    "    predicted_label = max(doc.cats, key=doc.cats.get)\n",
    "    predicted_labels.append(predicted_label)"
   ]
  },
  {
   "cell_type": "code",
   "execution_count": 26,
   "metadata": {},
   "outputs": [
    {
     "name": "stdout",
     "output_type": "stream",
     "text": [
      "Label Mapping: {np.str_('Access'): 0, np.str_('Administrative rights'): 1, np.str_('HR Support'): 2, np.str_('Hardware'): 3, np.str_('Internal Project'): 4, np.str_('Miscellaneous'): 5, np.str_('Purchase'): 6, np.str_('Storage'): 7}\n"
     ]
    }
   ],
   "source": [
    "from sklearn.preprocessing import LabelEncoder\n",
    "\n",
    "label_encoder = LabelEncoder()\n",
    "encoded_true_labels = label_encoder.fit_transform(true_labels)\n",
    "encoded_predicted_labels = label_encoder.transform(predicted_labels)\n",
    "\n",
    "# Save the mapping for reference\n",
    "label_mapping = dict(zip(label_encoder.classes_, range(len(label_encoder.classes_))))\n",
    "print(\"Label Mapping:\", label_mapping)"
   ]
  },
  {
   "cell_type": "code",
   "execution_count": 27,
   "metadata": {},
   "outputs": [
    {
     "name": "stdout",
     "output_type": "stream",
     "text": [
      "[[ 91   1   2  14   0   4   0   0]\n",
      " [  0  10   0  10   0   1   0   0]\n",
      " [  3   1  86  17   0   9   0   1]\n",
      " [  5   2   4 138   0   8   0   2]\n",
      " [  2   0   5   5  18   2   0   0]\n",
      " [  3   0   7  10   0  75   0   0]\n",
      " [  0   0   1   2   0   0  25   0]\n",
      " [  0   0   3   8   0   2   0  23]]\n"
     ]
    }
   ],
   "source": [
    "from sklearn.metrics import confusion_matrix\n",
    "\n",
    "conf_matrix = confusion_matrix(encoded_true_labels, encoded_predicted_labels)\n",
    "print(conf_matrix)"
   ]
  },
  {
   "cell_type": "code",
   "execution_count": 29,
   "metadata": {},
   "outputs": [
    {
     "data": {
      "image/png": "[encoded data removed]",
      "text/plain": [
       "<Figure size 1000x800 with 2 Axes>"
      ]
     },
     "metadata": {},
     "output_type": "display_data"
    }
   ],
   "source": [
    "import matplotlib.pyplot as plt\n",
    "import seaborn as sns\n",
    "\n",
    "# Plot the confusion matrix\n",
    "plt.figure(figsize=(10, 8))\n",
    "sns.heatmap(conf_matrix, annot=True, fmt='d', cmap='Blues',\n",
    "            xticklabels=label_encoder.classes_,\n",
    "            yticklabels=label_encoder.classes_)\n",
    "\n",
    "plt.xlabel('Predicted Labels')\n",
    "plt.ylabel('True Labels')\n",
    "plt.title('Confusion Matrix')\n",
    "plt.show()"
   ]
  },
  {
   "cell_type": "code",
   "execution_count": null,
   "metadata": {},
   "outputs": [],
   "source": []
  }
 ],
 "metadata": {
  "kernelspec": {
   "display_name": "Python (Text Classification Spacy Env)",
   "language": "python",
   "name": "spacy_env"
  },
  "language_info": {
   "codemirror_mode": {
    "name": "ipython",
    "version": 3
   },
   "file_extension": ".py",
   "mimetype": "text/x-python",
   "name": "python",
   "nbconvert_exporter": "python",
   "pygments_lexer": "ipython3",
   "version": "3.9.13"
  }
 },
 "nbformat": 4,
 "nbformat_minor": 2
}
